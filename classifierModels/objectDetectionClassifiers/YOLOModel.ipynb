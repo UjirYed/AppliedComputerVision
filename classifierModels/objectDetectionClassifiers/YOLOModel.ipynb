{
 "cells": [
  {
   "cell_type": "code",
   "execution_count": 1,
   "metadata": {},
   "outputs": [
    {
     "name": "stderr",
     "output_type": "stream",
     "text": [
      "/Users/rijudey/Documents/GitHub/AppliedComputerVision/diningHallEnv/lib/python3.9/site-packages/urllib3/__init__.py:35: NotOpenSSLWarning: urllib3 v2 only supports OpenSSL 1.1.1+, currently the 'ssl' module is compiled with 'LibreSSL 2.8.3'. See: https://github.com/urllib3/urllib3/issues/3020\n",
      "  warnings.warn(\n",
      "/Users/rijudey/Documents/GitHub/AppliedComputerVision/diningHallEnv/lib/python3.9/site-packages/tqdm/auto.py:21: TqdmWarning: IProgress not found. Please update jupyter and ipywidgets. See https://ipywidgets.readthedocs.io/en/stable/user_install.html\n",
      "  from .autonotebook import tqdm as notebook_tqdm\n"
     ]
    },
    {
     "data": {
      "text/plain": [
       "<contextlib.ExitStack at 0x17c63bca0>"
      ]
     },
     "execution_count": 1,
     "metadata": {},
     "output_type": "execute_result"
    }
   ],
   "source": [
    "import torch\n",
    "import torch.nn as nn\n",
    "import torch.optim as optim\n",
    "from torch.optim import lr_scheduler\n",
    "import torch.backends.cudnn as cudnn\n",
    "import numpy as np\n",
    "import torchvision\n",
    "from torchvision import datasets, models, transforms\n",
    "import matplotlib.pyplot as plt\n",
    "import time\n",
    "import os\n",
    "import copy\n",
    "import json\n",
    "import glob\n",
    "import itertools\n",
    "from PIL import Image\n",
    "from PIL.Image import BILINEAR\n",
    "from torchinfo import summary\n",
    "from transformers import (\n",
    "    AutoImageProcessor,\n",
    "    TrainingArguments,\n",
    "    Trainer,\n",
    "    EfficientNetConfig,\n",
    "    EfficientNetForImageClassification,\n",
    "    AutoTokenizer,\n",
    "    YolosModel\n",
    ")\n",
    "import evaluate\n",
    "import accelerate\n",
    "\n",
    "\n",
    "cudnn.benchmark = True\n",
    "plt.ion()   # interactive mode"
   ]
  },
  {
   "cell_type": "code",
   "execution_count": 2,
   "metadata": {},
   "outputs": [],
   "source": [
    "# For straightforward datasets, sometimes you can make do with built-in PyTorch dataset objects.\n",
    "# We want to apply automated data augmentations, which will be different for the training\n",
    "# and eval scenarios\n",
    "\n",
    "data_transforms = {\n",
    "        'train': transforms.Compose([\n",
    "            transforms.RandomResizedCrop(224),\n",
    "            transforms.RandomHorizontalFlip(),\n",
    "            transforms.ToTensor(),\n",
    "        ]),\n",
    "        'val': transforms.Compose([\n",
    "            transforms.Resize(256),\n",
    "            transforms.CenterCrop(224),\n",
    "            transforms.ToTensor(),\n",
    "        ]),\n",
    "    }"
   ]
  },
  {
   "cell_type": "code",
   "execution_count": 3,
   "metadata": {},
   "outputs": [
    {
     "name": "stdout",
     "output_type": "stream",
     "text": [
      "['1', '2', '3', '4', '5']\n",
      "dict_keys(['train', 'val'])\n",
      "label 0\n"
     ]
    },
    {
     "data": {
      "text/plain": [
       "(tensor(0.3904), tensor(0.2386), torch.Size([1, 3, 224, 224]))"
      ]
     },
     "execution_count": 3,
     "metadata": {},
     "output_type": "execute_result"
    }
   ],
   "source": [
    "data_dir = \"../../data/dataset/\"\n",
    "image_datasets = {x: datasets.ImageFolder(os.path.join(data_dir, x),\n",
    "                                          data_transforms[x])\n",
    "                  for x in ['train', 'val']}\n",
    "\n",
    "class_names = image_datasets['train'].classes\n",
    "\n",
    "print(class_names)\n",
    "\n",
    "print(image_datasets.keys())\n",
    "print(\"label\", image_datasets['train'][0][1])\n",
    "# we will use this test image to do all our preliminary testing to make sure stuff works.\n",
    "test_image = image_datasets['train'][0][0]\n",
    "test_image = test_image.unsqueeze(0)\n",
    "test_image.mean(), test_image.std(), test_image.shape"
   ]
  },
  {
   "cell_type": "code",
   "execution_count": 4,
   "metadata": {},
   "outputs": [],
   "source": [
    "def collate_fn(batch):\n",
    "    return {\n",
    "        \"pixel_values\": torch.stack([x[0] for x in batch]),\n",
    "        \"labels\": torch.LongTensor([int(x[1]) for x in batch]),\n",
    "    }"
   ]
  },
  {
   "cell_type": "markdown",
   "metadata": {},
   "source": [
    "## Load YOLO Vision Model"
   ]
  },
  {
   "cell_type": "code",
   "execution_count": 9,
   "metadata": {},
   "outputs": [
    {
     "name": "stderr",
     "output_type": "stream",
     "text": [
      "Could not find image processor class in the image processor config or the model config. Loading based on pattern matching with the model's feature extractor configuration. Please open a PR/issue to update `preprocessor_config.json` to use `image_processor_type` instead of `feature_extractor_type`. This warning will be removed in v4.40.\n",
      "Some weights of YolosModel were not initialized from the model checkpoint at hustvl/yolos-small and are newly initialized: ['vit.pooler.dense.bias', 'vit.pooler.dense.weight']\n",
      "You should probably TRAIN this model on a down-stream task to be able to use it for predictions and inference.\n"
     ]
    },
    {
     "name": "stdout",
     "output_type": "stream",
     "text": [
      "dict_keys(['pixel_values'])\n"
     ]
    },
    {
     "data": {
      "text/plain": [
       "30204288"
      ]
     },
     "execution_count": 9,
     "metadata": {},
     "output_type": "execute_result"
    }
   ],
   "source": [
    "image = test_image\n",
    "\n",
    "image_processor = AutoImageProcessor.from_pretrained(\"hustvl/yolos-small\")\n",
    "model = YolosModel.from_pretrained(\"hustvl/yolos-small\")\n",
    "\n",
    "inputs = image_processor(image, return_tensors=\"pt\")\n",
    "\n",
    "print(inputs.keys())\n",
    "with torch.no_grad():\n",
    "    outputs = model(**inputs)\n",
    "\n",
    "last_hidden_states = outputs.last_hidden_state\n",
    "pooler_output = outputs.pooler_output\n",
    "\n",
    "last_hidden_states.shape, pooler_output.shape, model.config.hidden_size\n",
    "\n",
    "model.forward\n",
    "\n",
    "total_params = sum(p.numel() for p in model.parameters())\n",
    "\n",
    "total_trainable_params = sum(p.numel() for p in model.parameters() if p.requires_grad())\n",
    "\n"
   ]
  },
  {
   "cell_type": "code",
   "execution_count": 20,
   "metadata": {},
   "outputs": [
    {
     "name": "stdout",
     "output_type": "stream",
     "text": [
      "<bound method Module.parameters of YolosLayer(\n",
      "  (attention): YolosAttention(\n",
      "    (attention): YolosSelfAttention(\n",
      "      (query): Linear(in_features=384, out_features=384, bias=True)\n",
      "      (key): Linear(in_features=384, out_features=384, bias=True)\n",
      "      (value): Linear(in_features=384, out_features=384, bias=True)\n",
      "      (dropout): Dropout(p=0.0, inplace=False)\n",
      "    )\n",
      "    (output): YolosSelfOutput(\n",
      "      (dense): Linear(in_features=384, out_features=384, bias=True)\n",
      "      (dropout): Dropout(p=0.0, inplace=False)\n",
      "    )\n",
      "  )\n",
      "  (intermediate): YolosIntermediate(\n",
      "    (dense): Linear(in_features=384, out_features=1536, bias=True)\n",
      "    (intermediate_act_fn): GELUActivation()\n",
      "  )\n",
      "  (output): YolosOutput(\n",
      "    (dense): Linear(in_features=1536, out_features=384, bias=True)\n",
      "    (dropout): Dropout(p=0.0, inplace=False)\n",
      "  )\n",
      "  (layernorm_before): LayerNorm((384,), eps=1e-12, elementwise_affine=True)\n",
      "  (layernorm_after): LayerNorm((384,), eps=1e-12, elementwise_affine=True)\n",
      ")>\n"
     ]
    }
   ],
   "source": [
    "print(model.encoder.layer[0])"
   ]
  },
  {
   "cell_type": "code",
   "execution_count": 24,
   "metadata": {},
   "outputs": [
    {
     "name": "stdout",
     "output_type": "stream",
     "text": [
      "+---------------------------------------------------+--------------+------------------------+\n",
      "|                      Modules                      | Total Params | Total Trainable Params |\n",
      "+---------------------------------------------------+--------------+------------------------+\n",
      "|                embeddings.cls_token               |     384      |          384           |\n",
      "|            embeddings.detection_tokens            |    38400     |         38400          |\n",
      "|           embeddings.position_embeddings          |    702336    |         702336         |\n",
      "|   embeddings.patch_embeddings.projection.weight   |    294912    |         294912         |\n",
      "|    embeddings.patch_embeddings.projection.bias    |     384      |          384           |\n",
      "|          encoder.mid_position_embeddings          |   7725696    |        7725696         |\n",
      "|  encoder.layer.0.attention.attention.query.weight |    147456    |           0            |\n",
      "|   encoder.layer.0.attention.attention.query.bias  |     384      |           0            |\n",
      "|   encoder.layer.0.attention.attention.key.weight  |    147456    |           0            |\n",
      "|    encoder.layer.0.attention.attention.key.bias   |     384      |           0            |\n",
      "|  encoder.layer.0.attention.attention.value.weight |    147456    |           0            |\n",
      "|   encoder.layer.0.attention.attention.value.bias  |     384      |           0            |\n",
      "|   encoder.layer.0.attention.output.dense.weight   |    147456    |           0            |\n",
      "|    encoder.layer.0.attention.output.dense.bias    |     384      |           0            |\n",
      "|     encoder.layer.0.intermediate.dense.weight     |    589824    |           0            |\n",
      "|      encoder.layer.0.intermediate.dense.bias      |     1536     |           0            |\n",
      "|        encoder.layer.0.output.dense.weight        |    589824    |           0            |\n",
      "|         encoder.layer.0.output.dense.bias         |     384      |           0            |\n",
      "|      encoder.layer.0.layernorm_before.weight      |     384      |           0            |\n",
      "|       encoder.layer.0.layernorm_before.bias       |     384      |           0            |\n",
      "|       encoder.layer.0.layernorm_after.weight      |     384      |           0            |\n",
      "|        encoder.layer.0.layernorm_after.bias       |     384      |           0            |\n",
      "|  encoder.layer.1.attention.attention.query.weight |    147456    |         147456         |\n",
      "|   encoder.layer.1.attention.attention.query.bias  |     384      |          384           |\n",
      "|   encoder.layer.1.attention.attention.key.weight  |    147456    |         147456         |\n",
      "|    encoder.layer.1.attention.attention.key.bias   |     384      |          384           |\n",
      "|  encoder.layer.1.attention.attention.value.weight |    147456    |         147456         |\n",
      "|   encoder.layer.1.attention.attention.value.bias  |     384      |          384           |\n",
      "|   encoder.layer.1.attention.output.dense.weight   |    147456    |         147456         |\n",
      "|    encoder.layer.1.attention.output.dense.bias    |     384      |          384           |\n",
      "|     encoder.layer.1.intermediate.dense.weight     |    589824    |         589824         |\n",
      "|      encoder.layer.1.intermediate.dense.bias      |     1536     |          1536          |\n",
      "|        encoder.layer.1.output.dense.weight        |    589824    |         589824         |\n",
      "|         encoder.layer.1.output.dense.bias         |     384      |          384           |\n",
      "|      encoder.layer.1.layernorm_before.weight      |     384      |          384           |\n",
      "|       encoder.layer.1.layernorm_before.bias       |     384      |          384           |\n",
      "|       encoder.layer.1.layernorm_after.weight      |     384      |          384           |\n",
      "|        encoder.layer.1.layernorm_after.bias       |     384      |          384           |\n",
      "|  encoder.layer.2.attention.attention.query.weight |    147456    |         147456         |\n",
      "|   encoder.layer.2.attention.attention.query.bias  |     384      |          384           |\n",
      "|   encoder.layer.2.attention.attention.key.weight  |    147456    |         147456         |\n",
      "|    encoder.layer.2.attention.attention.key.bias   |     384      |          384           |\n",
      "|  encoder.layer.2.attention.attention.value.weight |    147456    |         147456         |\n",
      "|   encoder.layer.2.attention.attention.value.bias  |     384      |          384           |\n",
      "|   encoder.layer.2.attention.output.dense.weight   |    147456    |         147456         |\n",
      "|    encoder.layer.2.attention.output.dense.bias    |     384      |          384           |\n",
      "|     encoder.layer.2.intermediate.dense.weight     |    589824    |         589824         |\n",
      "|      encoder.layer.2.intermediate.dense.bias      |     1536     |          1536          |\n",
      "|        encoder.layer.2.output.dense.weight        |    589824    |         589824         |\n",
      "|         encoder.layer.2.output.dense.bias         |     384      |          384           |\n",
      "|      encoder.layer.2.layernorm_before.weight      |     384      |          384           |\n",
      "|       encoder.layer.2.layernorm_before.bias       |     384      |          384           |\n",
      "|       encoder.layer.2.layernorm_after.weight      |     384      |          384           |\n",
      "|        encoder.layer.2.layernorm_after.bias       |     384      |          384           |\n",
      "|  encoder.layer.3.attention.attention.query.weight |    147456    |         147456         |\n",
      "|   encoder.layer.3.attention.attention.query.bias  |     384      |          384           |\n",
      "|   encoder.layer.3.attention.attention.key.weight  |    147456    |         147456         |\n",
      "|    encoder.layer.3.attention.attention.key.bias   |     384      |          384           |\n",
      "|  encoder.layer.3.attention.attention.value.weight |    147456    |         147456         |\n",
      "|   encoder.layer.3.attention.attention.value.bias  |     384      |          384           |\n",
      "|   encoder.layer.3.attention.output.dense.weight   |    147456    |         147456         |\n",
      "|    encoder.layer.3.attention.output.dense.bias    |     384      |          384           |\n",
      "|     encoder.layer.3.intermediate.dense.weight     |    589824    |         589824         |\n",
      "|      encoder.layer.3.intermediate.dense.bias      |     1536     |          1536          |\n",
      "|        encoder.layer.3.output.dense.weight        |    589824    |         589824         |\n",
      "|         encoder.layer.3.output.dense.bias         |     384      |          384           |\n",
      "|      encoder.layer.3.layernorm_before.weight      |     384      |          384           |\n",
      "|       encoder.layer.3.layernorm_before.bias       |     384      |          384           |\n",
      "|       encoder.layer.3.layernorm_after.weight      |     384      |          384           |\n",
      "|        encoder.layer.3.layernorm_after.bias       |     384      |          384           |\n",
      "|  encoder.layer.4.attention.attention.query.weight |    147456    |         147456         |\n",
      "|   encoder.layer.4.attention.attention.query.bias  |     384      |          384           |\n",
      "|   encoder.layer.4.attention.attention.key.weight  |    147456    |         147456         |\n",
      "|    encoder.layer.4.attention.attention.key.bias   |     384      |          384           |\n",
      "|  encoder.layer.4.attention.attention.value.weight |    147456    |         147456         |\n",
      "|   encoder.layer.4.attention.attention.value.bias  |     384      |          384           |\n",
      "|   encoder.layer.4.attention.output.dense.weight   |    147456    |         147456         |\n",
      "|    encoder.layer.4.attention.output.dense.bias    |     384      |          384           |\n",
      "|     encoder.layer.4.intermediate.dense.weight     |    589824    |         589824         |\n",
      "|      encoder.layer.4.intermediate.dense.bias      |     1536     |          1536          |\n",
      "|        encoder.layer.4.output.dense.weight        |    589824    |         589824         |\n",
      "|         encoder.layer.4.output.dense.bias         |     384      |          384           |\n",
      "|      encoder.layer.4.layernorm_before.weight      |     384      |          384           |\n",
      "|       encoder.layer.4.layernorm_before.bias       |     384      |          384           |\n",
      "|       encoder.layer.4.layernorm_after.weight      |     384      |          384           |\n",
      "|        encoder.layer.4.layernorm_after.bias       |     384      |          384           |\n",
      "|  encoder.layer.5.attention.attention.query.weight |    147456    |         147456         |\n",
      "|   encoder.layer.5.attention.attention.query.bias  |     384      |          384           |\n",
      "|   encoder.layer.5.attention.attention.key.weight  |    147456    |         147456         |\n",
      "|    encoder.layer.5.attention.attention.key.bias   |     384      |          384           |\n",
      "|  encoder.layer.5.attention.attention.value.weight |    147456    |         147456         |\n",
      "|   encoder.layer.5.attention.attention.value.bias  |     384      |          384           |\n",
      "|   encoder.layer.5.attention.output.dense.weight   |    147456    |         147456         |\n",
      "|    encoder.layer.5.attention.output.dense.bias    |     384      |          384           |\n",
      "|     encoder.layer.5.intermediate.dense.weight     |    589824    |         589824         |\n",
      "|      encoder.layer.5.intermediate.dense.bias      |     1536     |          1536          |\n",
      "|        encoder.layer.5.output.dense.weight        |    589824    |         589824         |\n",
      "|         encoder.layer.5.output.dense.bias         |     384      |          384           |\n",
      "|      encoder.layer.5.layernorm_before.weight      |     384      |          384           |\n",
      "|       encoder.layer.5.layernorm_before.bias       |     384      |          384           |\n",
      "|       encoder.layer.5.layernorm_after.weight      |     384      |          384           |\n",
      "|        encoder.layer.5.layernorm_after.bias       |     384      |          384           |\n",
      "|  encoder.layer.6.attention.attention.query.weight |    147456    |         147456         |\n",
      "|   encoder.layer.6.attention.attention.query.bias  |     384      |          384           |\n",
      "|   encoder.layer.6.attention.attention.key.weight  |    147456    |         147456         |\n",
      "|    encoder.layer.6.attention.attention.key.bias   |     384      |          384           |\n",
      "|  encoder.layer.6.attention.attention.value.weight |    147456    |         147456         |\n",
      "|   encoder.layer.6.attention.attention.value.bias  |     384      |          384           |\n",
      "|   encoder.layer.6.attention.output.dense.weight   |    147456    |         147456         |\n",
      "|    encoder.layer.6.attention.output.dense.bias    |     384      |          384           |\n",
      "|     encoder.layer.6.intermediate.dense.weight     |    589824    |         589824         |\n",
      "|      encoder.layer.6.intermediate.dense.bias      |     1536     |          1536          |\n",
      "|        encoder.layer.6.output.dense.weight        |    589824    |         589824         |\n",
      "|         encoder.layer.6.output.dense.bias         |     384      |          384           |\n",
      "|      encoder.layer.6.layernorm_before.weight      |     384      |          384           |\n",
      "|       encoder.layer.6.layernorm_before.bias       |     384      |          384           |\n",
      "|       encoder.layer.6.layernorm_after.weight      |     384      |          384           |\n",
      "|        encoder.layer.6.layernorm_after.bias       |     384      |          384           |\n",
      "|  encoder.layer.7.attention.attention.query.weight |    147456    |         147456         |\n",
      "|   encoder.layer.7.attention.attention.query.bias  |     384      |          384           |\n",
      "|   encoder.layer.7.attention.attention.key.weight  |    147456    |         147456         |\n",
      "|    encoder.layer.7.attention.attention.key.bias   |     384      |          384           |\n",
      "|  encoder.layer.7.attention.attention.value.weight |    147456    |         147456         |\n",
      "|   encoder.layer.7.attention.attention.value.bias  |     384      |          384           |\n",
      "|   encoder.layer.7.attention.output.dense.weight   |    147456    |         147456         |\n",
      "|    encoder.layer.7.attention.output.dense.bias    |     384      |          384           |\n",
      "|     encoder.layer.7.intermediate.dense.weight     |    589824    |         589824         |\n",
      "|      encoder.layer.7.intermediate.dense.bias      |     1536     |          1536          |\n",
      "|        encoder.layer.7.output.dense.weight        |    589824    |         589824         |\n",
      "|         encoder.layer.7.output.dense.bias         |     384      |          384           |\n",
      "|      encoder.layer.7.layernorm_before.weight      |     384      |          384           |\n",
      "|       encoder.layer.7.layernorm_before.bias       |     384      |          384           |\n",
      "|       encoder.layer.7.layernorm_after.weight      |     384      |          384           |\n",
      "|        encoder.layer.7.layernorm_after.bias       |     384      |          384           |\n",
      "|  encoder.layer.8.attention.attention.query.weight |    147456    |         147456         |\n",
      "|   encoder.layer.8.attention.attention.query.bias  |     384      |          384           |\n",
      "|   encoder.layer.8.attention.attention.key.weight  |    147456    |         147456         |\n",
      "|    encoder.layer.8.attention.attention.key.bias   |     384      |          384           |\n",
      "|  encoder.layer.8.attention.attention.value.weight |    147456    |         147456         |\n",
      "|   encoder.layer.8.attention.attention.value.bias  |     384      |          384           |\n",
      "|   encoder.layer.8.attention.output.dense.weight   |    147456    |         147456         |\n",
      "|    encoder.layer.8.attention.output.dense.bias    |     384      |          384           |\n",
      "|     encoder.layer.8.intermediate.dense.weight     |    589824    |         589824         |\n",
      "|      encoder.layer.8.intermediate.dense.bias      |     1536     |          1536          |\n",
      "|        encoder.layer.8.output.dense.weight        |    589824    |         589824         |\n",
      "|         encoder.layer.8.output.dense.bias         |     384      |          384           |\n",
      "|      encoder.layer.8.layernorm_before.weight      |     384      |          384           |\n",
      "|       encoder.layer.8.layernorm_before.bias       |     384      |          384           |\n",
      "|       encoder.layer.8.layernorm_after.weight      |     384      |          384           |\n",
      "|        encoder.layer.8.layernorm_after.bias       |     384      |          384           |\n",
      "|  encoder.layer.9.attention.attention.query.weight |    147456    |         147456         |\n",
      "|   encoder.layer.9.attention.attention.query.bias  |     384      |          384           |\n",
      "|   encoder.layer.9.attention.attention.key.weight  |    147456    |         147456         |\n",
      "|    encoder.layer.9.attention.attention.key.bias   |     384      |          384           |\n",
      "|  encoder.layer.9.attention.attention.value.weight |    147456    |         147456         |\n",
      "|   encoder.layer.9.attention.attention.value.bias  |     384      |          384           |\n",
      "|   encoder.layer.9.attention.output.dense.weight   |    147456    |         147456         |\n",
      "|    encoder.layer.9.attention.output.dense.bias    |     384      |          384           |\n",
      "|     encoder.layer.9.intermediate.dense.weight     |    589824    |         589824         |\n",
      "|      encoder.layer.9.intermediate.dense.bias      |     1536     |          1536          |\n",
      "|        encoder.layer.9.output.dense.weight        |    589824    |         589824         |\n",
      "|         encoder.layer.9.output.dense.bias         |     384      |          384           |\n",
      "|      encoder.layer.9.layernorm_before.weight      |     384      |          384           |\n",
      "|       encoder.layer.9.layernorm_before.bias       |     384      |          384           |\n",
      "|       encoder.layer.9.layernorm_after.weight      |     384      |          384           |\n",
      "|        encoder.layer.9.layernorm_after.bias       |     384      |          384           |\n",
      "| encoder.layer.10.attention.attention.query.weight |    147456    |         147456         |\n",
      "|  encoder.layer.10.attention.attention.query.bias  |     384      |          384           |\n",
      "|  encoder.layer.10.attention.attention.key.weight  |    147456    |         147456         |\n",
      "|   encoder.layer.10.attention.attention.key.bias   |     384      |          384           |\n",
      "| encoder.layer.10.attention.attention.value.weight |    147456    |         147456         |\n",
      "|  encoder.layer.10.attention.attention.value.bias  |     384      |          384           |\n",
      "|   encoder.layer.10.attention.output.dense.weight  |    147456    |         147456         |\n",
      "|    encoder.layer.10.attention.output.dense.bias   |     384      |          384           |\n",
      "|     encoder.layer.10.intermediate.dense.weight    |    589824    |         589824         |\n",
      "|      encoder.layer.10.intermediate.dense.bias     |     1536     |          1536          |\n",
      "|        encoder.layer.10.output.dense.weight       |    589824    |         589824         |\n",
      "|         encoder.layer.10.output.dense.bias        |     384      |          384           |\n",
      "|      encoder.layer.10.layernorm_before.weight     |     384      |          384           |\n",
      "|       encoder.layer.10.layernorm_before.bias      |     384      |          384           |\n",
      "|      encoder.layer.10.layernorm_after.weight      |     384      |          384           |\n",
      "|       encoder.layer.10.layernorm_after.bias       |     384      |          384           |\n",
      "| encoder.layer.11.attention.attention.query.weight |    147456    |         147456         |\n",
      "|  encoder.layer.11.attention.attention.query.bias  |     384      |          384           |\n",
      "|  encoder.layer.11.attention.attention.key.weight  |    147456    |         147456         |\n",
      "|   encoder.layer.11.attention.attention.key.bias   |     384      |          384           |\n",
      "| encoder.layer.11.attention.attention.value.weight |    147456    |         147456         |\n",
      "|  encoder.layer.11.attention.attention.value.bias  |     384      |          384           |\n",
      "|   encoder.layer.11.attention.output.dense.weight  |    147456    |         147456         |\n",
      "|    encoder.layer.11.attention.output.dense.bias   |     384      |          384           |\n",
      "|     encoder.layer.11.intermediate.dense.weight    |    589824    |         589824         |\n",
      "|      encoder.layer.11.intermediate.dense.bias     |     1536     |          1536          |\n",
      "|        encoder.layer.11.output.dense.weight       |    589824    |         589824         |\n",
      "|         encoder.layer.11.output.dense.bias        |     384      |          384           |\n",
      "|      encoder.layer.11.layernorm_before.weight     |     384      |          384           |\n",
      "|       encoder.layer.11.layernorm_before.bias      |     384      |          384           |\n",
      "|      encoder.layer.11.layernorm_after.weight      |     384      |          384           |\n",
      "|       encoder.layer.11.layernorm_after.bias       |     384      |          384           |\n",
      "|                  layernorm.weight                 |     384      |          384           |\n",
      "|                   layernorm.bias                  |     384      |          384           |\n",
      "|                pooler.dense.weight                |    147456    |         147456         |\n",
      "|                 pooler.dense.bias                 |     384      |          384           |\n",
      "+---------------------------------------------------+--------------+------------------------+\n",
      "Total Params: 30204288, Total Trainable Params: 30204288\n"
     ]
    },
    {
     "data": {
      "text/plain": [
       "(30204288, 28429824)"
      ]
     },
     "execution_count": 24,
     "metadata": {},
     "output_type": "execute_result"
    }
   ],
   "source": [
    "from prettytable import PrettyTable\n",
    "\n",
    "\n",
    "for p in model.encoder.layer[0].parameters():\n",
    "    p.requires_grad = False\n",
    "\n",
    "\n",
    "def count_parameters(model):\n",
    "    table = PrettyTable([\"Modules\", \"Total Params\", \"Total Trainable Params\"])\n",
    "    total_params = 0\n",
    "    total_train_params = 0\n",
    "    for name, parameter in model.named_parameters():\n",
    "        params = parameter.numel()\n",
    "        if parameter.requires_grad:\n",
    "            table.add_row([name, params, params])\n",
    "            total_params += params\n",
    "            total_train_params += params\n",
    "        else:\n",
    "            table.add_row([name, params, 0])\n",
    "            total_params += params\n",
    "    print(table)\n",
    "    print(f\"Total Params: {total_params}, Total Trainable Params: {total_params}\")\n",
    "    return total_params, total_train_params\n",
    "    \n",
    "count_parameters(model)"
   ]
  },
  {
   "cell_type": "code",
   "execution_count": 35,
   "metadata": {},
   "outputs": [
    {
     "name": "stdout",
     "output_type": "stream",
     "text": [
      "ModuleList(\n",
      "  (0-11): 12 x YolosLayer(\n",
      "    (attention): YolosAttention(\n",
      "      (attention): YolosSelfAttention(\n",
      "        (query): Linear(in_features=384, out_features=384, bias=True)\n",
      "        (key): Linear(in_features=384, out_features=384, bias=True)\n",
      "        (value): Linear(in_features=384, out_features=384, bias=True)\n",
      "        (dropout): Dropout(p=0.0, inplace=False)\n",
      "      )\n",
      "      (output): YolosSelfOutput(\n",
      "        (dense): Linear(in_features=384, out_features=384, bias=True)\n",
      "        (dropout): Dropout(p=0.0, inplace=False)\n",
      "      )\n",
      "    )\n",
      "    (intermediate): YolosIntermediate(\n",
      "      (dense): Linear(in_features=384, out_features=1536, bias=True)\n",
      "      (intermediate_act_fn): GELUActivation()\n",
      "    )\n",
      "    (output): YolosOutput(\n",
      "      (dense): Linear(in_features=1536, out_features=384, bias=True)\n",
      "      (dropout): Dropout(p=0.0, inplace=False)\n",
      "    )\n",
      "    (layernorm_before): LayerNorm((384,), eps=1e-12, elementwise_affine=True)\n",
      "    (layernorm_after): LayerNorm((384,), eps=1e-12, elementwise_affine=True)\n",
      "  )\n",
      ")\n"
     ]
    },
    {
     "data": {
      "text/plain": [
       "YolosEncoder(\n",
       "  (layer): ModuleList(\n",
       "    (0-11): 12 x YolosLayer(\n",
       "      (attention): YolosAttention(\n",
       "        (attention): YolosSelfAttention(\n",
       "          (query): Linear(in_features=384, out_features=384, bias=True)\n",
       "          (key): Linear(in_features=384, out_features=384, bias=True)\n",
       "          (value): Linear(in_features=384, out_features=384, bias=True)\n",
       "          (dropout): Dropout(p=0.0, inplace=False)\n",
       "        )\n",
       "        (output): YolosSelfOutput(\n",
       "          (dense): Linear(in_features=384, out_features=384, bias=True)\n",
       "          (dropout): Dropout(p=0.0, inplace=False)\n",
       "        )\n",
       "      )\n",
       "      (intermediate): YolosIntermediate(\n",
       "        (dense): Linear(in_features=384, out_features=1536, bias=True)\n",
       "        (intermediate_act_fn): GELUActivation()\n",
       "      )\n",
       "      (output): YolosOutput(\n",
       "        (dense): Linear(in_features=1536, out_features=384, bias=True)\n",
       "        (dropout): Dropout(p=0.0, inplace=False)\n",
       "      )\n",
       "      (layernorm_before): LayerNorm((384,), eps=1e-12, elementwise_affine=True)\n",
       "      (layernorm_after): LayerNorm((384,), eps=1e-12, elementwise_affine=True)\n",
       "    )\n",
       "  )\n",
       "  (interpolation): InterpolateMidPositionEmbeddings()\n",
       ")"
      ]
     },
     "execution_count": 35,
     "metadata": {},
     "output_type": "execute_result"
    }
   ],
   "source": [
    "x = \"encoder.layer\"\n",
    "model.config\n",
    "getattr(model, x)"
   ]
  },
  {
   "cell_type": "markdown",
   "metadata": {},
   "source": [
    "## YOLO HuggingFace Trainer"
   ]
  },
  {
   "cell_type": "code",
   "execution_count": 6,
   "metadata": {},
   "outputs": [],
   "source": [
    "# Setup the training arguments\n",
    "output_dir = \"./YOLO_Model\"\n",
    "\n",
    "# we should edit things like number of training epochs and the batch size\n",
    "training_args = TrainingArguments(\n",
    "    output_dir=output_dir,\n",
    "    per_device_train_batch_size=4,\n",
    "    per_device_eval_batch_size=4,\n",
    "    evaluation_strategy=\"epoch\",\n",
    "    save_strategy=\"epoch\",\n",
    "    num_train_epochs=100,\n",
    "    lr_scheduler_type=\"cosine\",\n",
    "    logging_steps=10,\n",
    "    save_total_limit=2,\n",
    "    remove_unused_columns=False,\n",
    "    push_to_hub=False,\n",
    "    load_best_model_at_end=True,\n",
    "    dataloader_num_workers=0,\n",
    "    report_to=\"wandb\",\n",
    "#     gradient_accumulation_steps=8,\n",
    ")"
   ]
  },
  {
   "cell_type": "code",
   "execution_count": 7,
   "metadata": {},
   "outputs": [
    {
     "name": "stdout",
     "output_type": "stream",
     "text": [
      "Set learning rate to: 1.5625e-05\n"
     ]
    }
   ],
   "source": [
    "# Compute absolute learning rate\n",
    "base_learning_rate = 1e-3\n",
    "total_train_batch_size = (\n",
    "    training_args.train_batch_size * training_args.gradient_accumulation_steps * training_args.world_size\n",
    ")\n",
    "\n",
    "training_args.learning_rate = base_learning_rate * total_train_batch_size / 256\n",
    "print(\"Set learning rate to:\", training_args.learning_rate)"
   ]
  },
  {
   "cell_type": "code",
   "execution_count": 8,
   "metadata": {},
   "outputs": [],
   "source": [
    "# Setup a function to compute accuracy metrics\n",
    "metric = evaluate.load(\"accuracy\")\n",
    "def compute_metrics(p):\n",
    "    return metric.compute(predictions=np.argmax(p.predictions, axis=1), references=p.label_ids)"
   ]
  },
  {
   "cell_type": "code",
   "execution_count": 9,
   "metadata": {},
   "outputs": [],
   "source": [
    "os.environ[\"WANDB_PROJECT\"] = \"<my-amazing-project>\"  # name your W&B project\n",
    "os.environ[\"WANDB_LOG_MODEL\"] = \"checkpoint\"  # log all model checkpoints\n"
   ]
  },
  {
   "cell_type": "code",
   "execution_count": 10,
   "metadata": {},
   "outputs": [
    {
     "name": "stderr",
     "output_type": "stream",
     "text": [
      "c:\\Users\\normb\\.pyenv\\pyenv-win\\versions\\3.12.2\\Lib\\site-packages\\accelerate\\accelerator.py:436: FutureWarning: Passing the following arguments to `Accelerator` is deprecated and will be removed in version 1.0 of Accelerate: dict_keys(['dispatch_batches', 'split_batches', 'even_batches', 'use_seedable_sampler']). Please pass an `accelerate.DataLoaderConfiguration` instead: \n",
      "dataloader_config = DataLoaderConfiguration(dispatch_batches=None, split_batches=False, even_batches=True, use_seedable_sampler=True)\n",
      "  warnings.warn(\n"
     ]
    }
   ],
   "source": [
    "# Create the trainer\n",
    "trainer = Trainer(\n",
    "    model=model,\n",
    "    args=training_args,\n",
    "    train_dataset=image_datasets['train'],\n",
    "    eval_dataset=image_datasets['val'],\n",
    "    tokenizer=image_processor,\n",
    "    compute_metrics=compute_metrics,\n",
    "    data_collator=collate_fn,\n",
    ")"
   ]
  },
  {
   "cell_type": "code",
   "execution_count": 11,
   "metadata": {},
   "outputs": [
    {
     "name": "stderr",
     "output_type": "stream",
     "text": [
      "Failed to detect the name of this notebook, you can set it manually with the WANDB_NOTEBOOK_NAME environment variable to enable code saving.\n",
      "\u001b[34m\u001b[1mwandb\u001b[0m: Currently logged in as: \u001b[33mnjm2175\u001b[0m (\u001b[33mcolumbiauniversityinthecityofnewyork\u001b[0m). Use \u001b[1m`wandb login --relogin`\u001b[0m to force relogin\n"
     ]
    },
    {
     "data": {
      "text/html": [
       "Tracking run with wandb version 0.16.6"
      ],
      "text/plain": [
       "<IPython.core.display.HTML object>"
      ]
     },
     "metadata": {},
     "output_type": "display_data"
    },
    {
     "data": {
      "text/html": [
       "Run data is saved locally in <code>d:\\Documents\\GitHub\\AppliedComputerVision\\classifierModels\\objectDetectionClassifiers\\wandb\\run-20240423_091533-xj8awjv7</code>"
      ],
      "text/plain": [
       "<IPython.core.display.HTML object>"
      ]
     },
     "metadata": {},
     "output_type": "display_data"
    },
    {
     "data": {
      "text/html": [
       "Syncing run <strong><a href='https://wandb.ai/columbiauniversityinthecityofnewyork/%3Cmy-amazing-project%3E/runs/xj8awjv7' target=\"_blank\">cosmic-dragon-2</a></strong> to <a href='https://wandb.ai/columbiauniversityinthecityofnewyork/%3Cmy-amazing-project%3E' target=\"_blank\">Weights & Biases</a> (<a href='https://wandb.me/run' target=\"_blank\">docs</a>)<br/>"
      ],
      "text/plain": [
       "<IPython.core.display.HTML object>"
      ]
     },
     "metadata": {},
     "output_type": "display_data"
    },
    {
     "data": {
      "text/html": [
       " View project at <a href='https://wandb.ai/columbiauniversityinthecityofnewyork/%3Cmy-amazing-project%3E' target=\"_blank\">https://wandb.ai/columbiauniversityinthecityofnewyork/%3Cmy-amazing-project%3E</a>"
      ],
      "text/plain": [
       "<IPython.core.display.HTML object>"
      ]
     },
     "metadata": {},
     "output_type": "display_data"
    },
    {
     "data": {
      "text/html": [
       " View run at <a href='https://wandb.ai/columbiauniversityinthecityofnewyork/%3Cmy-amazing-project%3E/runs/xj8awjv7' target=\"_blank\">https://wandb.ai/columbiauniversityinthecityofnewyork/%3Cmy-amazing-project%3E/runs/xj8awjv7</a>"
      ],
      "text/plain": [
       "<IPython.core.display.HTML object>"
      ]
     },
     "metadata": {},
     "output_type": "display_data"
    },
    {
     "name": "stderr",
     "output_type": "stream",
     "text": [
      "  0%|          | 0/74600 [00:00<?, ?it/s]"
     ]
    },
    {
     "ename": "TypeError",
     "evalue": "YolosModel.forward() got an unexpected keyword argument 'labels'",
     "output_type": "error",
     "traceback": [
      "\u001b[1;31m---------------------------------------------------------------------------\u001b[0m",
      "\u001b[1;31mTypeError\u001b[0m                                 Traceback (most recent call last)",
      "Cell \u001b[1;32mIn[11], line 1\u001b[0m\n\u001b[1;32m----> 1\u001b[0m train_results \u001b[38;5;241m=\u001b[39m \u001b[43mtrainer\u001b[49m\u001b[38;5;241;43m.\u001b[39;49m\u001b[43mtrain\u001b[49m\u001b[43m(\u001b[49m\u001b[43m)\u001b[49m\n",
      "File \u001b[1;32mc:\\Users\\normb\\.pyenv\\pyenv-win\\versions\\3.12.2\\Lib\\site-packages\\transformers\\trainer.py:1780\u001b[0m, in \u001b[0;36mTrainer.train\u001b[1;34m(self, resume_from_checkpoint, trial, ignore_keys_for_eval, **kwargs)\u001b[0m\n\u001b[0;32m   1778\u001b[0m         hf_hub_utils\u001b[38;5;241m.\u001b[39menable_progress_bars()\n\u001b[0;32m   1779\u001b[0m \u001b[38;5;28;01melse\u001b[39;00m:\n\u001b[1;32m-> 1780\u001b[0m     \u001b[38;5;28;01mreturn\u001b[39;00m \u001b[43minner_training_loop\u001b[49m\u001b[43m(\u001b[49m\n\u001b[0;32m   1781\u001b[0m \u001b[43m        \u001b[49m\u001b[43margs\u001b[49m\u001b[38;5;241;43m=\u001b[39;49m\u001b[43margs\u001b[49m\u001b[43m,\u001b[49m\n\u001b[0;32m   1782\u001b[0m \u001b[43m        \u001b[49m\u001b[43mresume_from_checkpoint\u001b[49m\u001b[38;5;241;43m=\u001b[39;49m\u001b[43mresume_from_checkpoint\u001b[49m\u001b[43m,\u001b[49m\n\u001b[0;32m   1783\u001b[0m \u001b[43m        \u001b[49m\u001b[43mtrial\u001b[49m\u001b[38;5;241;43m=\u001b[39;49m\u001b[43mtrial\u001b[49m\u001b[43m,\u001b[49m\n\u001b[0;32m   1784\u001b[0m \u001b[43m        \u001b[49m\u001b[43mignore_keys_for_eval\u001b[49m\u001b[38;5;241;43m=\u001b[39;49m\u001b[43mignore_keys_for_eval\u001b[49m\u001b[43m,\u001b[49m\n\u001b[0;32m   1785\u001b[0m \u001b[43m    \u001b[49m\u001b[43m)\u001b[49m\n",
      "File \u001b[1;32mc:\\Users\\normb\\.pyenv\\pyenv-win\\versions\\3.12.2\\Lib\\site-packages\\transformers\\trainer.py:2118\u001b[0m, in \u001b[0;36mTrainer._inner_training_loop\u001b[1;34m(self, batch_size, args, resume_from_checkpoint, trial, ignore_keys_for_eval)\u001b[0m\n\u001b[0;32m   2115\u001b[0m     \u001b[38;5;28mself\u001b[39m\u001b[38;5;241m.\u001b[39mcontrol \u001b[38;5;241m=\u001b[39m \u001b[38;5;28mself\u001b[39m\u001b[38;5;241m.\u001b[39mcallback_handler\u001b[38;5;241m.\u001b[39mon_step_begin(args, \u001b[38;5;28mself\u001b[39m\u001b[38;5;241m.\u001b[39mstate, \u001b[38;5;28mself\u001b[39m\u001b[38;5;241m.\u001b[39mcontrol)\n\u001b[0;32m   2117\u001b[0m \u001b[38;5;28;01mwith\u001b[39;00m \u001b[38;5;28mself\u001b[39m\u001b[38;5;241m.\u001b[39maccelerator\u001b[38;5;241m.\u001b[39maccumulate(model):\n\u001b[1;32m-> 2118\u001b[0m     tr_loss_step \u001b[38;5;241m=\u001b[39m \u001b[38;5;28;43mself\u001b[39;49m\u001b[38;5;241;43m.\u001b[39;49m\u001b[43mtraining_step\u001b[49m\u001b[43m(\u001b[49m\u001b[43mmodel\u001b[49m\u001b[43m,\u001b[49m\u001b[43m \u001b[49m\u001b[43minputs\u001b[49m\u001b[43m)\u001b[49m\n\u001b[0;32m   2120\u001b[0m \u001b[38;5;28;01mif\u001b[39;00m (\n\u001b[0;32m   2121\u001b[0m     args\u001b[38;5;241m.\u001b[39mlogging_nan_inf_filter\n\u001b[0;32m   2122\u001b[0m     \u001b[38;5;129;01mand\u001b[39;00m \u001b[38;5;129;01mnot\u001b[39;00m is_torch_xla_available()\n\u001b[0;32m   2123\u001b[0m     \u001b[38;5;129;01mand\u001b[39;00m (torch\u001b[38;5;241m.\u001b[39misnan(tr_loss_step) \u001b[38;5;129;01mor\u001b[39;00m torch\u001b[38;5;241m.\u001b[39misinf(tr_loss_step))\n\u001b[0;32m   2124\u001b[0m ):\n\u001b[0;32m   2125\u001b[0m     \u001b[38;5;66;03m# if loss is nan or inf simply add the average of previous logged losses\u001b[39;00m\n\u001b[0;32m   2126\u001b[0m     tr_loss \u001b[38;5;241m+\u001b[39m\u001b[38;5;241m=\u001b[39m tr_loss \u001b[38;5;241m/\u001b[39m (\u001b[38;5;241m1\u001b[39m \u001b[38;5;241m+\u001b[39m \u001b[38;5;28mself\u001b[39m\u001b[38;5;241m.\u001b[39mstate\u001b[38;5;241m.\u001b[39mglobal_step \u001b[38;5;241m-\u001b[39m \u001b[38;5;28mself\u001b[39m\u001b[38;5;241m.\u001b[39m_globalstep_last_logged)\n",
      "File \u001b[1;32mc:\\Users\\normb\\.pyenv\\pyenv-win\\versions\\3.12.2\\Lib\\site-packages\\transformers\\trainer.py:3036\u001b[0m, in \u001b[0;36mTrainer.training_step\u001b[1;34m(self, model, inputs)\u001b[0m\n\u001b[0;32m   3033\u001b[0m     \u001b[38;5;28;01mreturn\u001b[39;00m loss_mb\u001b[38;5;241m.\u001b[39mreduce_mean()\u001b[38;5;241m.\u001b[39mdetach()\u001b[38;5;241m.\u001b[39mto(\u001b[38;5;28mself\u001b[39m\u001b[38;5;241m.\u001b[39margs\u001b[38;5;241m.\u001b[39mdevice)\n\u001b[0;32m   3035\u001b[0m \u001b[38;5;28;01mwith\u001b[39;00m \u001b[38;5;28mself\u001b[39m\u001b[38;5;241m.\u001b[39mcompute_loss_context_manager():\n\u001b[1;32m-> 3036\u001b[0m     loss \u001b[38;5;241m=\u001b[39m \u001b[38;5;28;43mself\u001b[39;49m\u001b[38;5;241;43m.\u001b[39;49m\u001b[43mcompute_loss\u001b[49m\u001b[43m(\u001b[49m\u001b[43mmodel\u001b[49m\u001b[43m,\u001b[49m\u001b[43m \u001b[49m\u001b[43minputs\u001b[49m\u001b[43m)\u001b[49m\n\u001b[0;32m   3038\u001b[0m \u001b[38;5;28;01mif\u001b[39;00m \u001b[38;5;28mself\u001b[39m\u001b[38;5;241m.\u001b[39margs\u001b[38;5;241m.\u001b[39mn_gpu \u001b[38;5;241m>\u001b[39m \u001b[38;5;241m1\u001b[39m:\n\u001b[0;32m   3039\u001b[0m     loss \u001b[38;5;241m=\u001b[39m loss\u001b[38;5;241m.\u001b[39mmean()  \u001b[38;5;66;03m# mean() to average on multi-gpu parallel training\u001b[39;00m\n",
      "File \u001b[1;32mc:\\Users\\normb\\.pyenv\\pyenv-win\\versions\\3.12.2\\Lib\\site-packages\\transformers\\trainer.py:3059\u001b[0m, in \u001b[0;36mTrainer.compute_loss\u001b[1;34m(self, model, inputs, return_outputs)\u001b[0m\n\u001b[0;32m   3057\u001b[0m \u001b[38;5;28;01melse\u001b[39;00m:\n\u001b[0;32m   3058\u001b[0m     labels \u001b[38;5;241m=\u001b[39m \u001b[38;5;28;01mNone\u001b[39;00m\n\u001b[1;32m-> 3059\u001b[0m outputs \u001b[38;5;241m=\u001b[39m \u001b[43mmodel\u001b[49m\u001b[43m(\u001b[49m\u001b[38;5;241;43m*\u001b[39;49m\u001b[38;5;241;43m*\u001b[39;49m\u001b[43minputs\u001b[49m\u001b[43m)\u001b[49m\n\u001b[0;32m   3060\u001b[0m \u001b[38;5;66;03m# Save past state if it exists\u001b[39;00m\n\u001b[0;32m   3061\u001b[0m \u001b[38;5;66;03m# TODO: this needs to be fixed and made cleaner later.\u001b[39;00m\n\u001b[0;32m   3062\u001b[0m \u001b[38;5;28;01mif\u001b[39;00m \u001b[38;5;28mself\u001b[39m\u001b[38;5;241m.\u001b[39margs\u001b[38;5;241m.\u001b[39mpast_index \u001b[38;5;241m>\u001b[39m\u001b[38;5;241m=\u001b[39m \u001b[38;5;241m0\u001b[39m:\n",
      "File \u001b[1;32mc:\\Users\\normb\\.pyenv\\pyenv-win\\versions\\3.12.2\\Lib\\site-packages\\torch\\nn\\modules\\module.py:1511\u001b[0m, in \u001b[0;36mModule._wrapped_call_impl\u001b[1;34m(self, *args, **kwargs)\u001b[0m\n\u001b[0;32m   1509\u001b[0m     \u001b[38;5;28;01mreturn\u001b[39;00m \u001b[38;5;28mself\u001b[39m\u001b[38;5;241m.\u001b[39m_compiled_call_impl(\u001b[38;5;241m*\u001b[39margs, \u001b[38;5;241m*\u001b[39m\u001b[38;5;241m*\u001b[39mkwargs)  \u001b[38;5;66;03m# type: ignore[misc]\u001b[39;00m\n\u001b[0;32m   1510\u001b[0m \u001b[38;5;28;01melse\u001b[39;00m:\n\u001b[1;32m-> 1511\u001b[0m     \u001b[38;5;28;01mreturn\u001b[39;00m \u001b[38;5;28;43mself\u001b[39;49m\u001b[38;5;241;43m.\u001b[39;49m\u001b[43m_call_impl\u001b[49m\u001b[43m(\u001b[49m\u001b[38;5;241;43m*\u001b[39;49m\u001b[43margs\u001b[49m\u001b[43m,\u001b[49m\u001b[43m \u001b[49m\u001b[38;5;241;43m*\u001b[39;49m\u001b[38;5;241;43m*\u001b[39;49m\u001b[43mkwargs\u001b[49m\u001b[43m)\u001b[49m\n",
      "File \u001b[1;32mc:\\Users\\normb\\.pyenv\\pyenv-win\\versions\\3.12.2\\Lib\\site-packages\\torch\\nn\\modules\\module.py:1520\u001b[0m, in \u001b[0;36mModule._call_impl\u001b[1;34m(self, *args, **kwargs)\u001b[0m\n\u001b[0;32m   1515\u001b[0m \u001b[38;5;66;03m# If we don't have any hooks, we want to skip the rest of the logic in\u001b[39;00m\n\u001b[0;32m   1516\u001b[0m \u001b[38;5;66;03m# this function, and just call forward.\u001b[39;00m\n\u001b[0;32m   1517\u001b[0m \u001b[38;5;28;01mif\u001b[39;00m \u001b[38;5;129;01mnot\u001b[39;00m (\u001b[38;5;28mself\u001b[39m\u001b[38;5;241m.\u001b[39m_backward_hooks \u001b[38;5;129;01mor\u001b[39;00m \u001b[38;5;28mself\u001b[39m\u001b[38;5;241m.\u001b[39m_backward_pre_hooks \u001b[38;5;129;01mor\u001b[39;00m \u001b[38;5;28mself\u001b[39m\u001b[38;5;241m.\u001b[39m_forward_hooks \u001b[38;5;129;01mor\u001b[39;00m \u001b[38;5;28mself\u001b[39m\u001b[38;5;241m.\u001b[39m_forward_pre_hooks\n\u001b[0;32m   1518\u001b[0m         \u001b[38;5;129;01mor\u001b[39;00m _global_backward_pre_hooks \u001b[38;5;129;01mor\u001b[39;00m _global_backward_hooks\n\u001b[0;32m   1519\u001b[0m         \u001b[38;5;129;01mor\u001b[39;00m _global_forward_hooks \u001b[38;5;129;01mor\u001b[39;00m _global_forward_pre_hooks):\n\u001b[1;32m-> 1520\u001b[0m     \u001b[38;5;28;01mreturn\u001b[39;00m \u001b[43mforward_call\u001b[49m\u001b[43m(\u001b[49m\u001b[38;5;241;43m*\u001b[39;49m\u001b[43margs\u001b[49m\u001b[43m,\u001b[49m\u001b[43m \u001b[49m\u001b[38;5;241;43m*\u001b[39;49m\u001b[38;5;241;43m*\u001b[39;49m\u001b[43mkwargs\u001b[49m\u001b[43m)\u001b[49m\n\u001b[0;32m   1522\u001b[0m \u001b[38;5;28;01mtry\u001b[39;00m:\n\u001b[0;32m   1523\u001b[0m     result \u001b[38;5;241m=\u001b[39m \u001b[38;5;28;01mNone\u001b[39;00m\n",
      "\u001b[1;31mTypeError\u001b[0m: YolosModel.forward() got an unexpected keyword argument 'labels'"
     ]
    }
   ],
   "source": [
    "train_results = trainer.train()"
   ]
  },
  {
   "cell_type": "code",
   "execution_count": null,
   "metadata": {},
   "outputs": [],
   "source": []
  }
 ],
 "metadata": {
  "kernelspec": {
   "display_name": "Python 3",
   "language": "python",
   "name": "python3"
  },
  "language_info": {
   "codemirror_mode": {
    "name": "ipython",
    "version": 3
   },
   "file_extension": ".py",
   "mimetype": "text/x-python",
   "name": "python",
   "nbconvert_exporter": "python",
   "pygments_lexer": "ipython3",
   "version": "3.9.6"
  }
 },
 "nbformat": 4,
 "nbformat_minor": 2
}
